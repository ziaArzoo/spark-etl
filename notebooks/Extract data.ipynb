{
 "cells": [
  {
   "cell_type": "code",
   "execution_count": 0,
   "metadata": {
    "application/vnd.databricks.v1+cell": {
     "cellMetadata": {
      "byteLimit": 2048000,
      "rowLimit": 10000
     },
     "inputWidgets": {},
     "nuid": "47403b6f-8b63-44b9-b780-17350b9e2ca6",
     "showTitle": false,
     "tableResultSettingsMap": {},
     "title": ""
    }
   },
   "outputs": [],
   "source": [
    "# Databricks notebook source\n",
    "import yaml\n",
    "from pyspark.sql import SparkSession\n",
    "from delta import configure_spark_with_delta_pip\n",
    "\n",
    "# Initialize Spark with Delta + UC support\n",
    "builder = (\n",
    "    SparkSession.builder.appName(\"extract-weather-raw\")\n",
    "    .config(\"spark.sql.extensions\", \"io.delta.sql.DeltaSparkSessionExtension\")\n",
    "    .config(\"spark.sql.catalog.spark_catalog\", \"org.apache.spark.sql.delta.catalog.DeltaCatalog\")\n",
    ")\n",
    "spark = configure_spark_with_delta_pip(builder).getOrCreate()\n",
    "\n",
    "# 1️⃣ Load config\n",
    "with open(\"/Workspace/Repos/ziaarzoo21@gmail.com/spark-etl/config/config.yaml\") as f:\n",
    "    cfg = yaml.safe_load(f)\n",
    "\n",
    "# 2️⃣ Ensure catalog + schema exist (safe check)\n",
    "spark.sql(f\"CREATE CATALOG IF NOT EXISTS {cfg['catalog_name']}\")\n",
    "spark.sql(f\"CREATE SCHEMA IF NOT EXISTS {cfg['catalog_name']}.{cfg['schema_name']}\")\n",
    "\n",
    "# 3️⃣ Run Extract Layer\n",
    "from src.extract.save_raw import run as extract_run\n",
    "table_written = extract_run(cfg, spark)\n",
    "\n",
    "# 4️⃣ Preview written data\n",
    "df = spark.table(table_written)\n",
    "display(df.limit(10))\n",
    "\n",
    "# 5️⃣ Show storage location (to confirm Unity Catalog linked ADLS)\n",
    "spark.sql(f\"DESCRIBE DETAIL {table_written}\").select(\"location\").display()\n"
   ]
  }
 ],
 "metadata": {
  "application/vnd.databricks.v1+notebook": {
   "computePreferences": null,
   "dashboards": [],
   "environmentMetadata": {
    "base_environment": "",
    "environment_version": "4"
   },
   "inputWidgetPreferences": null,
   "language": "python",
   "notebookMetadata": {
    "pythonIndentUnit": 4
   },
   "notebookName": "Extract data",
   "widgets": {}
  },
  "language_info": {
   "name": "python"
  }
 },
 "nbformat": 4,
 "nbformat_minor": 0
}
