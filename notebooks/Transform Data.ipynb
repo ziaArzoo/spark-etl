{
 "cells": [
  {
   "cell_type": "code",
   "execution_count": 0,
   "metadata": {
    "application/vnd.databricks.v1+cell": {
     "cellMetadata": {},
     "inputWidgets": {},
     "nuid": "4b9d1878-8839-4869-bfce-5ad45f006abd",
     "showTitle": false,
     "tableResultSettingsMap": {},
     "title": ""
    }
   },
   "outputs": [],
   "source": [
    "# Databricks notebook source\n",
    "import yaml\n",
    "\n",
    "# Load config\n",
    "with open(\"/Workspace/Repos/ziaarzoo21@gmail.com/spark-etl/config/config.yaml\") as f:\n",
    "    cfg = yaml.safe_load(f)\n",
    "\n",
    "# Ensure schema exists\n",
    "spark.sql(f\"CREATE SCHEMA IF NOT EXISTS {cfg['catalog_name']}.{cfg['schema_name']}\")\n",
    "\n",
    "# Run transformation\n",
    "from src.transform.clean_transform import run as transform_run\n",
    "silver_table = transform_run(cfg, spark)\n",
    "\n",
    "# Preview Silver table\n",
    "df_silver = spark.table(silver_table)\n",
    "display(df_silver.limit(10))\n",
    "\n",
    "# Check table details\n",
    "spark.sql(f\"DESCRIBE DETAIL {silver_table}\").display()\n"
   ]
  }
 ],
 "metadata": {
  "application/vnd.databricks.v1+notebook": {
   "computePreferences": null,
   "dashboards": [],
   "environmentMetadata": {
    "base_environment": "",
    "environment_version": "4"
   },
   "inputWidgetPreferences": null,
   "language": "python",
   "notebookMetadata": {
    "pythonIndentUnit": 4
   },
   "notebookName": "Transform Data",
   "widgets": {}
  },
  "language_info": {
   "name": "python"
  }
 },
 "nbformat": 4,
 "nbformat_minor": 0
}
