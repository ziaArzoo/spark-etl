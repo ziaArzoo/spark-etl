{
 "cells": [
  {
   "cell_type": "code",
   "execution_count": 0,
   "metadata": {
    "application/vnd.databricks.v1+cell": {
     "cellMetadata": {},
     "inputWidgets": {},
     "nuid": "789cf54b-7ebe-4741-a591-94b8deef951b",
     "showTitle": false,
     "tableResultSettingsMap": {},
     "title": ""
    }
   },
   "outputs": [],
   "source": [
    "from pyspark.sql import SparkSession\n",
    "from pyspark.sql.functions import col, avg, sum as _sum\n",
    "import datetime as dt\n",
    "\n",
    "def run(cfg: dict, spark: SparkSession):\n",
    "    \"\"\"\n",
    "    Aggregates curated Silver data into Gold summary table.\n",
    "    Produces monthly average temperature, humidity, and total precipitation.\n",
    "    \"\"\"\n",
    "\n",
    "    catalog = cfg[\"catalog_name\"]\n",
    "    schema = cfg[\"schema_name\"]\n",
    "    table_silver = f\"{catalog}.{schema}.{cfg['tables']['silver']}\"\n",
    "    table_gold = f\"{catalog}.{schema}.{cfg['tables']['gold']}\"\n",
    "\n",
    "    print(f\"🔄 Reading curated data from Silver table: {table_silver}\")\n",
    "    df_silver = spark.table(table_silver)\n",
    "\n",
    "    # 1️⃣ Group by Year-Month\n",
    "    df_gold = (\n",
    "        df_silver.groupBy(\"year\", \"month\")\n",
    "        .agg(\n",
    "            avg(col(\"temperature_2m\")).alias(\"avg_temperature\"),\n",
    "            avg(col(\"relative_humidity_2m\")).alias(\"avg_humidity\"),\n",
    "            _sum(col(\"precipitation\")).alias(\"total_precipitation\")\n",
    "        )\n",
    "        .withColumn(\"created_at\", col(\"transform_ts\"))\n",
    "    )\n",
    "\n",
    "    # 2️⃣ Write to Gold table (overwrite for reproducibility)\n",
    "    (\n",
    "        df_gold.write.format(\"delta\")\n",
    "          .mode(\"overwrite\")\n",
    "          .option(\"overwriteSchema\", \"true\")\n",
    "          .saveAsTable(table_gold)\n",
    "    )\n",
    "\n",
    "    print(f\"✅ Gold aggregate table created: {table_gold}\")\n",
    "    return table_gold\n"
   ]
  }
 ],
 "metadata": {
  "application/vnd.databricks.v1+notebook": {
   "computePreferences": null,
   "dashboards": [],
   "environmentMetadata": {
    "base_environment": "",
    "environment_version": "4"
   },
   "inputWidgetPreferences": null,
   "language": "python",
   "notebookMetadata": {
    "pythonIndentUnit": 4
   },
   "notebookName": "load Data",
   "widgets": {}
  },
  "language_info": {
   "name": "python"
  }
 },
 "nbformat": 4,
 "nbformat_minor": 0
}
